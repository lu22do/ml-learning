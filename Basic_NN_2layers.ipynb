{
 "cells": [
  {
   "cell_type": "code",
   "execution_count": 51,
   "metadata": {},
   "outputs": [],
   "source": [
    "# super simple NN in pure python with 1 layer\n",
    "\n",
    "import numpy as np\n",
    "\n",
    "training_set_inputs = np.array([[0, 0, 1], [1, 1, 1], [1, 0, 1], [0, 1, 1], [1, 1, 0], [0, 1, 1], [0, 1, 0], [1, 0, 0], [0, 0, 0]])\n",
    "training_set_outputs = np.array([[1, 1, 1, 1, 0, 1, 1, 1, 0]]).T"
   ]
  },
  {
   "cell_type": "code",
   "execution_count": 58,
   "metadata": {},
   "outputs": [
    {
     "name": "stdout",
     "output_type": "stream",
     "text": [
      "(3, 4)\n",
      "(4, 1)\n",
      "[[ 0.08680988 -0.44326123 -0.15096482  0.68955226]\n",
      " [-0.99056229 -0.75686176  0.34149817  0.65170551]\n",
      " [-0.72658682  0.15018666  0.78264391 -0.58159576]]\n",
      "[[-0.62934356]\n",
      " [-0.78324622]\n",
      " [-0.56060501]\n",
      " [ 0.95724757]]\n"
     ]
    }
   ],
   "source": [
    "np.random.seed(100)\n",
    "\n",
    "# initialize weights with values between -1 and 1\n",
    "W1 = 2 * np.random.random((3, 4)) - 1  \n",
    "W2 = 2 * np.random.random((4, 1)) - 1  \n",
    "\n",
    "print(W1.shape)\n",
    "print(W2.shape)\n",
    "print(W1)\n",
    "print(W2)"
   ]
  },
  {
   "cell_type": "code",
   "execution_count": 59,
   "metadata": {},
   "outputs": [],
   "source": [
    "def nn(inputs):\n",
    "    output1 = 1 / (1 + np.exp(-(np.dot(inputs, W1))))\n",
    "    output2 = 1 / (1 + np.exp(-(np.dot(output1, W2))))\n",
    "    return output1, output2"
   ]
  },
  {
   "cell_type": "code",
   "execution_count": 60,
   "metadata": {},
   "outputs": [],
   "source": [
    "# The derivative of the Sigmoid function.\n",
    "# This is the gradient of the Sigmoid curve.\n",
    "# It indicates how confident we are about the existing weight.\n",
    "def sigmoid_derivative(x):\n",
    "    return x * (1 - x)"
   ]
  },
  {
   "cell_type": "code",
   "execution_count": 62,
   "metadata": {},
   "outputs": [
    {
     "name": "stdout",
     "output_type": "stream",
     "text": [
      "[0.85395182]\n",
      "[[ 1.9160215  -2.51959751  2.83401147 -9.98057409]\n",
      " [-4.03603285  5.26168633 -5.89007223  4.14745801]\n",
      " [ 5.37008587 -7.27058253  8.22474481 14.43879665]]\n",
      "[[ 0.04780451]\n",
      " [-0.10609815]\n",
      " [ 0.11654306]\n",
      " [ 1.63439564]]\n"
     ]
    }
   ],
   "source": [
    "for iteration in range(5000):\n",
    "    output1, output2 = nn(training_set_inputs)\n",
    "    \n",
    "    layer2_error = training_set_outputs - output2\n",
    "    layer2_delta = layer2_error * sigmoid_derivative(output2)\n",
    "\n",
    "    layer1_error = np.dot(layer2_delta, W2.T)\n",
    "    layer1_delta = layer1_error * sigmoid_derivative(output1)\n",
    "    \n",
    "    W2 += np.dot(output2.T, layer2_delta)\n",
    "    W1 += np.dot(training_set_inputs.T, layer1_delta)\n",
    "    \n",
    "    #if not iteration % 10:\n",
    "#    print(error2[0])\n",
    "#    print(sigmoid_derivative(output2[0]))\n",
    "    \n",
    "#    synaptic_weights += dot(training_set_inputs.T, (training_set_outputs - output) * output * (1 - output))\n",
    "\n",
    "_, output2 = nn([0, 1, 1])\n",
    "print(output2)\n",
    "print(W1)\n",
    "print(W2)"
   ]
  },
  {
   "cell_type": "code",
   "execution_count": null,
   "metadata": {},
   "outputs": [],
   "source": []
  }
 ],
 "metadata": {
  "kernelspec": {
   "display_name": "Python 3",
   "language": "python",
   "name": "python3"
  },
  "language_info": {
   "codemirror_mode": {
    "name": "ipython",
    "version": 3
   },
   "file_extension": ".py",
   "mimetype": "text/x-python",
   "name": "python",
   "nbconvert_exporter": "python",
   "pygments_lexer": "ipython3",
   "version": "3.6.4"
  }
 },
 "nbformat": 4,
 "nbformat_minor": 2
}
