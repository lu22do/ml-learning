{
 "cells": [
  {
   "cell_type": "code",
   "execution_count": 36,
   "metadata": {},
   "outputs": [],
   "source": [
    "# super simple NN in pure python with 1 layer\n",
    "\n",
    "import numpy as np\n",
    "\n",
    "training_set_inputs = np.array([[0, 0, 1], [1, 1, 1], [1, 0, 1], [0, 1, 1], [1, 1, 0], [0, 1, 1], [0, 1, 0], [1, 0, 0]])\n",
    "training_set_outputs = np.array([[1, 1, 1, 1, 0, 1, 1, 1]]).T"
   ]
  },
  {
   "cell_type": "code",
   "execution_count": 37,
   "metadata": {},
   "outputs": [
    {
     "name": "stdout",
     "output_type": "stream",
     "text": [
      "[[0.12390736]\n",
      " [0.9247359 ]\n",
      " [0.34732469]]\n"
     ]
    }
   ],
   "source": [
    "random.seed(1200)\n",
    "synaptic_weights = 2 * np.random.random((3, 1)) - 1\n",
    "print(synaptic_weights)"
   ]
  },
  {
   "cell_type": "code",
   "execution_count": 40,
   "metadata": {},
   "outputs": [
    {
     "name": "stdout",
     "output_type": "stream",
     "text": [
      "[0.50001226]\n",
      "[[4.90252137e-05]\n",
      " [1.96280624e-04]\n",
      " [5.79373223e+00]]\n"
     ]
    }
   ],
   "source": [
    "for iteration in range(5000):\n",
    "    output = 1 / (1 + np.exp(-(np.dot(training_set_inputs, synaptic_weights))))\n",
    "    synaptic_weights += dot(training_set_inputs.T, (training_set_outputs - output) * output * (1 - output))\n",
    "\n",
    "print(1 / (1 + exp(-(dot(array([1, 0, 0]), synaptic_weights)))))\n",
    "print(synaptic_weights)"
   ]
  },
  {
   "cell_type": "code",
   "execution_count": null,
   "metadata": {},
   "outputs": [],
   "source": []
  }
 ],
 "metadata": {
  "kernelspec": {
   "display_name": "Python 3",
   "language": "python",
   "name": "python3"
  },
  "language_info": {
   "codemirror_mode": {
    "name": "ipython",
    "version": 3
   },
   "file_extension": ".py",
   "mimetype": "text/x-python",
   "name": "python",
   "nbconvert_exporter": "python",
   "pygments_lexer": "ipython3",
   "version": "3.6.4"
  }
 },
 "nbformat": 4,
 "nbformat_minor": 2
}
